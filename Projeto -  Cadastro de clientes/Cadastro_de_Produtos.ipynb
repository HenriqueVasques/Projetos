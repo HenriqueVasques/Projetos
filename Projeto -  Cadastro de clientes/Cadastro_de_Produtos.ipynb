{
  "cells": [
    {
      "cell_type": "code",
      "execution_count": 10,
      "metadata": {
        "colab": {
          "base_uri": "https://localhost:8080/"
        },
        "id": "zwFnJsE6vjf8",
        "outputId": "c8aab2f7-1e9b-41b0-c6eb-8ebaafb7f617"
      },
      "outputs": [
        {
          "name": "stdout",
          "output_type": "stream",
          "text": [
            "escreva o nome do produto a\n",
            "escreva a descrição do produto a\n",
            "escreva o valor do produto 1\n",
            "produto disponivel para compra? [S/N] s\n",
            "deseja cadastrar outro produto? [S/N]n\n",
            "\n",
            "-------------------------------------------------------------------------\n",
            "\n",
            "Seus produtos foram cadastrados com sucesso!\n",
            "\n",
            "Nome do Produto: a, Descrição: a, Valor do produto: 1R$, produto disponivel\n",
            "\n"
          ]
        }
      ],
      "source": [
        "produtos = []\n",
        "qtd = 0\n",
        "continuar = \"s\"\n",
        "\n",
        "while continuar == \"s\" or continuar == \"S\":\n",
        "  nomeProduto = str(input(\"Escreva o nome do produto \"))\n",
        "  descricao = str(input(\"escreva a descrição do produto \"))\n",
        "  valor = input(\"Escreva o valor do produto \")\n",
        "  disponivel = input(\"Produto disponivel para compra? [S/N] \")\n",
        "\n",
        "  if disponivel.lower() not in {\"s\", \"n\"}:\n",
        "    disponivel = input(\"Opção invalida, tente novamente usando [S/N]\")\n",
        "    disponivel.lower()\n",
        "\n",
        "  match disponivel:\n",
        "    case \"s\":\n",
        "      disponivel = \"Disponivel\"\n",
        "    case \"n\":\n",
        "      disponivel = \"Idisponivel\"\n",
        "    case _:\n",
        "      disponivel = \"Não identificado\"\n",
        "\n",
        "  produtos.append(f\"Nome do Produto: {nomeProduto}, Descrição: {descricao}, Valor do produto: {valor}R$, Produto {disponivel}\")\n",
        "\n",
        "  continuar = input(\"Deseja cadastrar outro produto? [S/N]\")\n",
        "  print()\n",
        "  print(\"-------------------------------------------------------------------------\")\n",
        "  print()\n",
        "\n",
        "  if continuar.lower() not in {\"s\", \"n\"}:\n",
        "    print(\"Opção invalida, tente novamente usando [S/N]\")\n",
        "    continuar = input(\"dDeseja cadastrar outro produto? [S/N]\")\n",
        "\n",
        "  qtd += 1\n",
        "\n",
        "if qtd > 0:\n",
        "    print(\"Seus produtos foram cadastrados com sucesso!\\n\")\n",
        "    for produto in produtos:\n",
        "        print(produto)\n",
        "        print()\n",
        "    print(f\"Você cadastou um total de {qtd} produtos\")\n",
        "else:\n",
        "    print(\"Seu produto foi cadastrado com sucesso!\")\n",
        "    print(produtos)\n",
        "\n",
        "\n"
      ]
    }
  ],
  "metadata": {
    "colab": {
      "provenance": [],
      "toc_visible": true
    },
    "kernelspec": {
      "display_name": "Python 3",
      "name": "python3"
    }
  },
  "nbformat": 4,
  "nbformat_minor": 0
}
